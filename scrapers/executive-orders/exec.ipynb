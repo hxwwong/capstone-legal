{
 "cells": [
  {
   "cell_type": "code",
   "execution_count": 1,
   "metadata": {},
   "outputs": [],
   "source": [
    "from bs4 import BeautifulSoup\n",
    "from time import sleep\n",
    "import pandas as pd\n",
    "import requests"
   ]
  },
  {
   "cell_type": "code",
   "execution_count": 4,
   "metadata": {},
   "outputs": [],
   "source": [
    "r = requests.get('https://www.officialgazette.gov.ph/section/executive-orders/')\n",
    "html = BeautifulSoup(r.content, 'lxml')"
   ]
  },
  {
   "cell_type": "code",
   "execution_count": 50,
   "metadata": {},
   "outputs": [],
   "source": [
    "summary_divs = html.find_all(\"div\", {\"class\":\"entry-summary\"})\n",
    "titles = html.find_all('h3')[1:-1] # slicing to remove the unneeded header/footer h3 elements "
   ]
  },
  {
   "cell_type": "code",
   "execution_count": 54,
   "metadata": {},
   "outputs": [
    {
     "name": "stdout",
     "output_type": "stream",
     "text": [
      "<div class=\"entry-summary\">\n",
      "<p>DIRECTING THE ABOLITION OF THE MUNICIPAL DEVELOPMENT FUND OFFICE, TRANSFERRING ITS ASSETS, LIABILITIES AND OBLIGATIONS TO THE DEPARTMENT OF FINANCE, AND FOR OTHER PURPOSES</p>\n",
      "</div>\n",
      "<h3 class=\"entry-title\"><a href=\"https://www.officialgazette.gov.ph/2022/06/10/executive-order-no-173-s-2022/\" rel=\"bookmark\">Executive Order No. 173, s. 2022</a></h3>\n"
     ]
    },
    {
     "data": {
      "text/plain": [
       "1"
      ]
     },
     "execution_count": 54,
     "metadata": {},
     "output_type": "execute_result"
    }
   ],
   "source": [
    "len(summary_divs) \n",
    "print(summary_divs[0])\n",
    "print(titles[0])\n",
    "len(titles[0])"
   ]
  },
  {
   "cell_type": "code",
   "execution_count": 48,
   "metadata": {},
   "outputs": [
    {
     "name": "stdout",
     "output_type": "stream",
     "text": [
      "DIRECTING THE ABOLITION OF THE MUNICIPAL DEVELOPMENT FUND OFFICE, TRANSFERRING ITS ASSETS, LIABILITIES AND OBLIGATIONS TO THE DEPARTMENT OF FINANCE, AND FOR OTHER PURPOSES\n",
      "\n",
      "MALACAÑAN PALACE MANILA BY THE PRESIDENT OF THE PHILIPPINES EXECUTIVE ORDER NO. 172 APPROVING THE COCONUT FARMERS AND INDUSTRY DEVELOPMENT PLAN\n",
      "\n",
      "TEMPORARY MODIFYING THE RATES OF IMPORT DUTY ON VARIOUS PRODUCTS UNDER SECTION 1611 OF REPUBLIC ACT NO. 10863, OTHERWISE KNOWN AS THE “CUSTOMS MODERNIZATION AND TARIFF ACT”\n",
      "\n",
      "ADOPTION OF DIGITAL PAYMENTS FOR GOVERNMENT DISBURSEMENTS AND COLLECTIONS \n",
      "\n",
      "STRENGTHENING THE FRANCHISING INDUSTRY FOR THE PROTECTION OF MICRO, SMALL AND MEDIUM ENTERPRISES\n",
      "\n",
      "TRANSFERRING THE NATIONAL IRRIGATION ADMINISTRATION FROM THE OFFICE OF THE PRESIDENT TO THE DEPARTMENT OF AGRICULTURE\n",
      "\n",
      "STRENGTHENING THE PHILIPPINE COMMISSION ON WOMEN, FURTHER AMENDING EXECUTIVE ORDER NO. 208 (S. 1994), AS AMENDED, FOR THE PURPOSE\n",
      "\n",
      "MALACAÑAN PALACE MANILA BY THE PRESIDENT OF THE PHILIPPINES EXECUTIVE ORDER NO. 166 ADOPTING THE TEN-POINT POLICY AGENDA TO ACCELERATE AND SUSTAIN ECONOMIC RECOVERY FROM THE COVID-19 PANDEMIC, AND DIRECTING A WHOLE-OF-GOVERNMENT APPROACH TO ALIGN ALL ECONOMIC RECOVERY PROGRAMS AND MEASURES OF THE NATIONAL GOVERNMENT\n",
      "\n",
      "PRESCRIBING REGULATIONS ON OUT-OF-HOME ADVERTISING SIGNS AND BILLBOARDS\n",
      "\n",
      "ADOPTING A NATIONAL POSITION FOR A NUCLEAR ENERGY PROGRAM, AND FOR OTHER PURPOSES\n",
      "\n"
     ]
    }
   ],
   "source": [
    "def scrape_eos():\n",
    "# accessing the summary of the EOs \n",
    "    EOs = []\n",
    "    \n",
    "    summary_divs = html.find_all(\"div\", {\"class\":\"entry-summary\"})\n",
    "    titles = html.find_all('h3')[1:-1] # slicing to remove the unneeded header/footer h3 elements \n",
    "    print(titles[2])\n",
    "\n",
    "    for i in range(0, len(summary_divs)): \n",
    "        summaries = summary_divs[i].p \n",
    "        summary_content = summaries.get_text() \n",
    "\n",
    "        link = titles[i].find('a')\n",
    "        url = link.get('href')\n",
    "        id = link.get_text() \n",
    "        \n",
    "\n",
    "   "
   ]
  },
  {
   "cell_type": "code",
   "execution_count": null,
   "metadata": {},
   "outputs": [],
   "source": [
    "EOs = []\n",
    "\n",
    "summary_divs = html.find_all(\"div\", {\"class\":\"entry-summary\"})\n",
    "titles = html.find_all('h3')[1:-1] # slicing to remove the unneeded header/footer h3 elements \n",
    "\n",
    "for i in range(0, len(summary_divs)): \n",
    "    summaries = summary_divs[i].p \n",
    "    summary_content = summaries.get_text() \n",
    "\n",
    "    link = titles[i].find('a')\n",
    "    url = link.get('href')\n",
    "    id = link.get_text() \n",
    "    data = {'eo_id': id, \n",
    "            'title': summary_content, \n",
    "            'URL': url}\n",
    "\n",
    "    EOs.append(data)"
   ]
  },
  {
   "cell_type": "code",
   "execution_count": 57,
   "metadata": {},
   "outputs": [
    {
     "data": {
      "text/html": [
       "<div>\n",
       "<style scoped>\n",
       "    .dataframe tbody tr th:only-of-type {\n",
       "        vertical-align: middle;\n",
       "    }\n",
       "\n",
       "    .dataframe tbody tr th {\n",
       "        vertical-align: top;\n",
       "    }\n",
       "\n",
       "    .dataframe thead th {\n",
       "        text-align: right;\n",
       "    }\n",
       "</style>\n",
       "<table border=\"1\" class=\"dataframe\">\n",
       "  <thead>\n",
       "    <tr style=\"text-align: right;\">\n",
       "      <th></th>\n",
       "      <th>eo_id</th>\n",
       "      <th>title</th>\n",
       "      <th>URL</th>\n",
       "    </tr>\n",
       "  </thead>\n",
       "  <tbody>\n",
       "    <tr>\n",
       "      <th>0</th>\n",
       "      <td>Executive Order No. 173, s. 2022</td>\n",
       "      <td>DIRECTING THE ABOLITION OF THE MUNICIPAL DEVEL...</td>\n",
       "      <td>https://www.officialgazette.gov.ph/2022/06/10/...</td>\n",
       "    </tr>\n",
       "    <tr>\n",
       "      <th>1</th>\n",
       "      <td>Executive Order No. 172, s. 2022</td>\n",
       "      <td>MALACAÑAN PALACE MANILA BY THE PRESIDENT OF TH...</td>\n",
       "      <td>https://www.officialgazette.gov.ph/2022/06/02/...</td>\n",
       "    </tr>\n",
       "    <tr>\n",
       "      <th>2</th>\n",
       "      <td>Executive Order No. 171, s. 2022</td>\n",
       "      <td>TEMPORARY MODIFYING THE RATES OF IMPORT DUTY O...</td>\n",
       "      <td>https://www.officialgazette.gov.ph/2022/05/21/...</td>\n",
       "    </tr>\n",
       "    <tr>\n",
       "      <th>3</th>\n",
       "      <td>Executive Order No. 170, s. 2022</td>\n",
       "      <td>ADOPTION OF DIGITAL PAYMENTS FOR GOVERNMENT DI...</td>\n",
       "      <td>https://www.officialgazette.gov.ph/2022/05/12/...</td>\n",
       "    </tr>\n",
       "    <tr>\n",
       "      <th>4</th>\n",
       "      <td>Executive Order No. 169, s. 2022</td>\n",
       "      <td>STRENGTHENING THE FRANCHISING INDUSTRY FOR THE...</td>\n",
       "      <td>https://www.officialgazette.gov.ph/2022/05/12/...</td>\n",
       "    </tr>\n",
       "    <tr>\n",
       "      <th>5</th>\n",
       "      <td>Executive Order No. 168, s. 2022</td>\n",
       "      <td>TRANSFERRING THE NATIONAL IRRIGATION ADMINISTR...</td>\n",
       "      <td>https://www.officialgazette.gov.ph/2022/04/25/...</td>\n",
       "    </tr>\n",
       "    <tr>\n",
       "      <th>6</th>\n",
       "      <td>Executive Order No. 167, s. 2022</td>\n",
       "      <td>STRENGTHENING THE PHILIPPINE COMMISSION ON WOM...</td>\n",
       "      <td>https://www.officialgazette.gov.ph/2022/04/06/...</td>\n",
       "    </tr>\n",
       "    <tr>\n",
       "      <th>7</th>\n",
       "      <td>Executive Order No. 166, s. 2022</td>\n",
       "      <td>MALACAÑAN PALACE MANILA BY THE PRESIDENT OF TH...</td>\n",
       "      <td>https://www.officialgazette.gov.ph/2022/03/21/...</td>\n",
       "    </tr>\n",
       "    <tr>\n",
       "      <th>8</th>\n",
       "      <td>Executive Order No. 165, s. 2022</td>\n",
       "      <td>PRESCRIBING REGULATIONS ON OUT-OF-HOME ADVERTI...</td>\n",
       "      <td>https://www.officialgazette.gov.ph/2022/03/21/...</td>\n",
       "    </tr>\n",
       "    <tr>\n",
       "      <th>9</th>\n",
       "      <td>Executive Order No. 164, s. 2022</td>\n",
       "      <td>ADOPTING A NATIONAL POSITION FOR A NUCLEAR ENE...</td>\n",
       "      <td>https://www.officialgazette.gov.ph/2022/02/28/...</td>\n",
       "    </tr>\n",
       "  </tbody>\n",
       "</table>\n",
       "</div>"
      ],
      "text/plain": [
       "                              eo_id  \\\n",
       "0  Executive Order No. 173, s. 2022   \n",
       "1  Executive Order No. 172, s. 2022   \n",
       "2  Executive Order No. 171, s. 2022   \n",
       "3  Executive Order No. 170, s. 2022   \n",
       "4  Executive Order No. 169, s. 2022   \n",
       "5  Executive Order No. 168, s. 2022   \n",
       "6  Executive Order No. 167, s. 2022   \n",
       "7  Executive Order No. 166, s. 2022   \n",
       "8  Executive Order No. 165, s. 2022   \n",
       "9  Executive Order No. 164, s. 2022   \n",
       "\n",
       "                                               title  \\\n",
       "0  DIRECTING THE ABOLITION OF THE MUNICIPAL DEVEL...   \n",
       "1  MALACAÑAN PALACE MANILA BY THE PRESIDENT OF TH...   \n",
       "2  TEMPORARY MODIFYING THE RATES OF IMPORT DUTY O...   \n",
       "3  ADOPTION OF DIGITAL PAYMENTS FOR GOVERNMENT DI...   \n",
       "4  STRENGTHENING THE FRANCHISING INDUSTRY FOR THE...   \n",
       "5  TRANSFERRING THE NATIONAL IRRIGATION ADMINISTR...   \n",
       "6  STRENGTHENING THE PHILIPPINE COMMISSION ON WOM...   \n",
       "7  MALACAÑAN PALACE MANILA BY THE PRESIDENT OF TH...   \n",
       "8  PRESCRIBING REGULATIONS ON OUT-OF-HOME ADVERTI...   \n",
       "9  ADOPTING A NATIONAL POSITION FOR A NUCLEAR ENE...   \n",
       "\n",
       "                                                 URL  \n",
       "0  https://www.officialgazette.gov.ph/2022/06/10/...  \n",
       "1  https://www.officialgazette.gov.ph/2022/06/02/...  \n",
       "2  https://www.officialgazette.gov.ph/2022/05/21/...  \n",
       "3  https://www.officialgazette.gov.ph/2022/05/12/...  \n",
       "4  https://www.officialgazette.gov.ph/2022/05/12/...  \n",
       "5  https://www.officialgazette.gov.ph/2022/04/25/...  \n",
       "6  https://www.officialgazette.gov.ph/2022/04/06/...  \n",
       "7  https://www.officialgazette.gov.ph/2022/03/21/...  \n",
       "8  https://www.officialgazette.gov.ph/2022/03/21/...  \n",
       "9  https://www.officialgazette.gov.ph/2022/02/28/...  "
      ]
     },
     "execution_count": 57,
     "metadata": {},
     "output_type": "execute_result"
    }
   ],
   "source": [
    "df = pd.DataFrame(EOs)\n",
    "df "
   ]
  },
  {
   "cell_type": "code",
   "execution_count": null,
   "metadata": {},
   "outputs": [],
   "source": []
  },
  {
   "cell_type": "code",
   "execution_count": null,
   "metadata": {},
   "outputs": [],
   "source": [
    "summary_divs = html.find_all(\"div\", {\"class\":\"entry-summary\"})\n",
    "titles = html.find_all('h3')[1:-1] # slicing to remove the unneeded header/footer h3 elements \n",
    "\n",
    "for div in summary_divs: \n",
    "        summaries = div.p\n",
    "        summary_content = summaries.get_text() \n",
    "        print(summary_content)\n",
    "        print()\n",
    "\n",
    "for title in titles: \n",
    "        link = title.find('a')\n",
    "        url = link.get('href')\n",
    "        id = link.get_text()\n",
    "        print(url)\n",
    "        print(id)\n",
    "        print()   \n",
    "\n",
    "    "
   ]
  }
 ],
 "metadata": {
  "kernelspec": {
   "display_name": "Python 3.8.12 ('DATA100')",
   "language": "python",
   "name": "python3"
  },
  "language_info": {
   "codemirror_mode": {
    "name": "ipython",
    "version": 3
   },
   "file_extension": ".py",
   "mimetype": "text/x-python",
   "name": "python",
   "nbconvert_exporter": "python",
   "pygments_lexer": "ipython3",
   "version": "3.8.12"
  },
  "orig_nbformat": 4,
  "vscode": {
   "interpreter": {
    "hash": "e417aab0cfdcaffc37b9d17ffd12cd1155fb3cbc153d179f418faa2b33520ad0"
   }
  }
 },
 "nbformat": 4,
 "nbformat_minor": 2
}
