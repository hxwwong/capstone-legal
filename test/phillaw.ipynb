{
 "cells": [
  {
   "cell_type": "code",
   "execution_count": 2,
   "id": "924dc0ee-b3e6-4ffa-bce4-83a8cab4a106",
   "metadata": {},
   "outputs": [],
   "source": [
    "import requests\n",
    "from bs4 import BeautifulSoup"
   ]
  },
  {
   "cell_type": "code",
   "execution_count": null,
   "id": "58671fd5-96c0-4860-a629-f7174294f6cb",
   "metadata": {},
   "outputs": [],
   "source": []
  },
  {
   "cell_type": "code",
   "execution_count": 14,
   "id": "5527966e-4fa4-4e0f-9d66-a0d9a46b7ee9",
   "metadata": {},
   "outputs": [
    {
     "name": "stdout",
     "output_type": "stream",
     "text": [
      "Requirement already satisfied: beautifulsoup4 in /Users/caleb/.asdf/installs/python/3.10.1/lib/python3.10/site-packages (4.10.0)\n",
      "Collecting beautifulsoup4\n",
      "  Downloading beautifulsoup4-4.11.1-py3-none-any.whl (128 kB)\n",
      "\u001b[K     |████████████████████████████████| 128 kB 2.7 MB/s eta 0:00:01\n",
      "\u001b[?25hRequirement already satisfied: soupsieve>1.2 in /Users/caleb/.asdf/installs/python/3.10.1/lib/python3.10/site-packages (from beautifulsoup4) (2.3.1)\n",
      "Installing collected packages: beautifulsoup4\n",
      "  Attempting uninstall: beautifulsoup4\n",
      "    Found existing installation: beautifulsoup4 4.10.0\n",
      "    Uninstalling beautifulsoup4-4.10.0:\n",
      "      Successfully uninstalled beautifulsoup4-4.10.0\n",
      "Successfully installed beautifulsoup4-4.11.1\n",
      "\u001b[33mWARNING: You are using pip version 21.2.4; however, version 22.1.2 is available.\n",
      "You should consider upgrading via the '/Users/caleb/.asdf/installs/python/3.10.1/bin/python3.10 -m pip install --upgrade pip' command.\u001b[0m\n",
      "Note: you may need to restart the kernel to use updated packages.\n"
     ]
    }
   ],
   "source": [
    "# upgrading bs4 \n",
    "pip install beautifulsoup4 -U"
   ]
  },
  {
   "cell_type": "code",
   "execution_count": 9,
   "id": "b558aa10-a714-40e0-bfed-ec12e2b28d0c",
   "metadata": {},
   "outputs": [],
   "source": [
    "r = requests.get('https://lawphil.net/statutes/repacts/ra2021/ra2021.html')"
   ]
  },
  {
   "cell_type": "code",
   "execution_count": 10,
   "id": "302851a0-9e79-4ca3-9db1-fae3f730ee02",
   "metadata": {},
   "outputs": [],
   "source": [
    "html = BeautifulSoup(r.content)"
   ]
  },
  {
   "cell_type": "code",
   "execution_count": 11,
   "id": "25965b6f-4b16-4a88-9bdc-03ceb33fe0f1",
   "metadata": {},
   "outputs": [],
   "source": [
    "table_fragment = html.select('body > center table')[1]"
   ]
  },
  {
   "cell_type": "code",
   "execution_count": null,
   "id": "4c91ba32-220c-469f-a90b-b36d0abf0b25",
   "metadata": {},
   "outputs": [],
   "source": []
  },
  {
   "cell_type": "code",
   "execution_count": null,
   "id": "d615bd46-916c-41ca-8405-9f609fefe374",
   "metadata": {},
   "outputs": [],
   "source": []
  },
  {
   "cell_type": "code",
   "execution_count": 14,
   "id": "19c354b7-604f-438c-8c61-3355495a1ef5",
   "metadata": {},
   "outputs": [
    {
     "data": {
      "text/plain": [
       "<tr bgcolor=\"#fbedfa\" valign=\"top\"><td>\n",
       "<a href=\"ra_11640_2021.html\">Republic Act No. 11640</a><br/>December 30, 2021\n",
       "</td><td>\n",
       "An Act Extending the Availability of the 2021 Appropriations to December 31, 2022, Amending For the Purpose Section 62 of the General Provisions of Republic Act No. 11518, the General Appropriations Act of Fiscal Year 2021\n",
       "</td><td>\n",
       "<a href=\"pdf/ra_11640_2021.pdf\"><img src=\"../../../imgs/p.png\"/></a>\n",
       "</td></tr>"
      ]
     },
     "execution_count": 14,
     "metadata": {},
     "output_type": "execute_result"
    }
   ],
   "source": [
    "table_fragment.find_all('tr')[3]"
   ]
  },
  {
   "cell_type": "code",
   "execution_count": null,
   "id": "7b057b74-abcb-47f0-810d-2b274bc3c22a",
   "metadata": {},
   "outputs": [],
   "source": []
  }
 ],
 "metadata": {
  "kernelspec": {
   "display_name": "Python 3.8.12 ('DATA100')",
   "language": "python",
   "name": "python3"
  },
  "language_info": {
   "codemirror_mode": {
    "name": "ipython",
    "version": 3
   },
   "file_extension": ".py",
   "mimetype": "text/x-python",
   "name": "python",
   "nbconvert_exporter": "python",
   "pygments_lexer": "ipython3",
   "version": "3.8.12"
  },
  "vscode": {
   "interpreter": {
    "hash": "e417aab0cfdcaffc37b9d17ffd12cd1155fb3cbc153d179f418faa2b33520ad0"
   }
  }
 },
 "nbformat": 4,
 "nbformat_minor": 5
}
